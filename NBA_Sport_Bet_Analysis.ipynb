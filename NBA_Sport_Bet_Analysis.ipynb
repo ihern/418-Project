{
 "cells": [
  {
   "cell_type": "markdown",
   "metadata": {},
   "source": [
    "# NBA Sports Betting Analysis: How accurate are betting odds for NBA games?\n",
    "GitHub Repo: https://github.com/ihern/418-Project.git \n",
    "\n",
    "UIC CS 418, Spring 2024\n",
    "\n",
    "Group 12: \n",
    "- **Ronak Chaudhuri**, rchau5@uic.edu, RonakChaudhuri\n",
    "- **Isaias Hernandez**, iherna50@uic.edu, ihern\n",
    "- **Kevin Pereira**, kperei2@uic.edu, kperei2\n",
    "- **Brandon Rosero**, broser2@uic.edu, brandon-rosero\n",
    "- **Muhammad Sharif**, mhari8@uic.edu, msharitenn "
   ]
  },
  {
   "cell_type": "markdown",
   "metadata": {},
   "source": [
    "# Introduction\n",
    "Changes Since Proposal: None\n",
    "\n",
    "### Data"
   ]
  },
  {
   "cell_type": "markdown",
   "metadata": {},
   "source": [
    "# Exploratory Data Analysis"
   ]
  },
  {
   "cell_type": "markdown",
   "metadata": {},
   "source": []
  },
  {
   "cell_type": "markdown",
   "metadata": {},
   "source": [
    "# Visualizations\n"
   ]
  },
  {
   "cell_type": "markdown",
   "metadata": {},
   "source": []
  },
  {
   "cell_type": "markdown",
   "metadata": {},
   "source": [
    "# Machine Learning Analysis "
   ]
  },
  {
   "cell_type": "markdown",
   "metadata": {},
   "source": []
  },
  {
   "cell_type": "markdown",
   "metadata": {},
   "source": [
    "# Reflection"
   ]
  },
  {
   "cell_type": "markdown",
   "metadata": {},
   "source": []
  },
  {
   "cell_type": "markdown",
   "metadata": {},
   "source": [
    "# Next Step"
   ]
  },
  {
   "cell_type": "markdown",
   "metadata": {},
   "source": []
  }
 ],
 "metadata": {
  "kernelspec": {
   "display_name": "Python 3",
   "language": "python",
   "name": "python3"
  },
  "language_info": {
   "codemirror_mode": {
    "name": "ipython",
    "version": 3
   },
   "file_extension": ".py",
   "mimetype": "text/x-python",
   "name": "python",
   "nbconvert_exporter": "python",
   "pygments_lexer": "ipython3",
   "version": "3.11.3"
  }
 },
 "nbformat": 4,
 "nbformat_minor": 2
}
