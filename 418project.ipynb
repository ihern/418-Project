{
 "cells": [
  {
   "cell_type": "markdown",
   "metadata": {},
   "source": [
    "# How accurate are moneyline odds when compared to seasonal team standings?\n",
    "\n",
    "**What is Moneyline?**\n",
    "\n",
    "Moneyline is one of the easiest wagers for first time bettors to get into. The basis of it revolves around an underdog and a favorite. \n",
    "Bettor's can choose to bet for their favorite teams or whoever they precieve will have the highest chances of winning. The way that moneyline bets are typically displayed is by giving the favorite (the team with the higher probability of winning) a negative score i.e. -200 or -150, and giving the underdog (the team with a lower probability of winning) a positive score i.e. +200 or +150. The bets a team gets, makes that team the favorite to win, the team with the lower amount of bets makes that team the underdog.\n",
    "\n",
    "**How is Moneyline calculated?\n",
    "\n",
    "Money is calculated quite simply.\n",
    "\n"
   ]
  },
  {
   "cell_type": "code",
   "execution_count": 1,
   "metadata": {},
   "outputs": [],
   "source": [
    "import numpy as np\n",
    "import pandas as pd\n",
    "import matplotlib.pyplot as plt\n",
    "import seaborn as sns"
   ]
  },
  {
   "cell_type": "code",
   "execution_count": null,
   "metadata": {},
   "outputs": [],
   "source": [
    "df = pd.read_csv('NBA_2022_23.csv')"
   ]
  }
 ],
 "metadata": {
  "kernelspec": {
   "display_name": "Python 3",
   "language": "python",
   "name": "python3"
  },
  "language_info": {
   "codemirror_mode": {
    "name": "ipython",
    "version": 3
   },
   "file_extension": ".py",
   "mimetype": "text/x-python",
   "name": "python",
   "nbconvert_exporter": "python",
   "pygments_lexer": "ipython3",
   "version": "3.12.2"
  }
 },
 "nbformat": 4,
 "nbformat_minor": 2
}
